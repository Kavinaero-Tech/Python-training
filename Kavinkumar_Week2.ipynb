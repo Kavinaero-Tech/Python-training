{
  "nbformat": 4,
  "nbformat_minor": 0,
  "metadata": {
    "colab": {
      "provenance": [],
      "authorship_tag": "ABX9TyNw4DrUeA1TGcsDxCoYIp9t",
      "include_colab_link": true
    },
    "kernelspec": {
      "name": "python3",
      "display_name": "Python 3"
    },
    "language_info": {
      "name": "python"
    }
  },
  "cells": [
    {
      "cell_type": "markdown",
      "metadata": {
        "id": "view-in-github",
        "colab_type": "text"
      },
      "source": [
        "<a href=\"https://colab.research.google.com/github/Kavinaero-Tech/Python-training/blob/main/Kavinkumar_Week2.ipynb\" target=\"_parent\"><img src=\"https://colab.research.google.com/assets/colab-badge.svg\" alt=\"Open In Colab\"/></a>"
      ]
    },
    {
      "cell_type": "code",
      "execution_count": null,
      "metadata": {
        "colab": {
          "base_uri": "https://localhost:8080/"
        },
        "id": "hRIX3i4mJlfU",
        "outputId": "15544cd8-af4f-410d-86fc-9d9b3541603c"
      },
      "outputs": [
        {
          "output_type": "stream",
          "name": "stdout",
          "text": [
            "kavinkumar_k_k148698\n"
          ]
        }
      ],
      "source": [
        "print(\"kavinkumar_k_k148698\")"
      ]
    },
    {
      "cell_type": "markdown",
      "source": [
        "1.\tWrite a lambda function that takes a name and returns a greeting message (e.g., \"Hello, <name>!\")."
      ],
      "metadata": {
        "id": "zca03zvwObbf"
      }
    },
    {
      "cell_type": "code",
      "source": [
        "greet = lambda name: print('Hello ', name)\n",
        "greet('Kavin')"
      ],
      "metadata": {
        "colab": {
          "base_uri": "https://localhost:8080/"
        },
        "id": "LInuUJTjN_FM",
        "outputId": "b2260fab-bda7-4594-e684-5e528462b67a"
      },
      "execution_count": null,
      "outputs": [
        {
          "output_type": "stream",
          "name": "stdout",
          "text": [
            "Hello  Kavin\n"
          ]
        }
      ]
    },
    {
      "cell_type": "markdown",
      "source": [
        "2.\tCreate lambda functions for basic math operations (add, subtract, multiply, divide) and use them to perform calculations."
      ],
      "metadata": {
        "id": "8TyuT6TWOh7m"
      }
    },
    {
      "cell_type": "code",
      "source": [
        "# Define lambda functions for basic operations\n",
        "square = lambda x: x * x\n",
        "add = lambda a, b: a + b\n",
        "subtract = lambda a, b: a - b\n",
        "multiply = lambda a, b: a * b\n",
        "divide = lambda a, b: a / b\n",
        "greater = lambda a, b: a if a > b else b\n",
        "\n",
        "# Input\n",
        "m = int(input(\"Enter first number: \"))\n",
        "n = int(input(\"Enter second number: \"))\n",
        "\n",
        "# Calculate and output\n",
        "print(\"Square of the first number is:\", square(m))\n",
        "print(\"Sum of the two numbers is:\", add(m, n))\n",
        "print(\"Difference between the two numbers is:\", subtract(m, n))\n",
        "print(\"Product of the two numbers is:\", multiply(m, n))\n",
        "print(f\"Quotient of the two numbers is: {divide(m, n)}\")\n"
      ],
      "metadata": {
        "colab": {
          "base_uri": "https://localhost:8080/"
        },
        "id": "2Aay4gNAOmz1",
        "outputId": "0f8673d1-3db4-4085-e109-dd55773929c6"
      },
      "execution_count": null,
      "outputs": [
        {
          "output_type": "stream",
          "name": "stdout",
          "text": [
            "Enter first number: 10\n",
            "Enter second number: 5\n",
            "Square of the first number is: 100\n",
            "Sum of the two numbers is: 15\n",
            "Difference between the two numbers is: 5\n",
            "Product of the two numbers is: 50\n",
            "Quotient of the two numbers is: 2.0\n"
          ]
        }
      ]
    },
    {
      "cell_type": "markdown",
      "source": [
        "3.\tUse lambda functions to filter a list of strings, keeping only those of a certain length."
      ],
      "metadata": {
        "id": "0IUBWEIccOs0"
      }
    },
    {
      "cell_type": "code",
      "source": [
        "# Create a list 'weekdays' containing the names of the days of the week\n",
        "weekdays = ['Monday', 'Tuesday', 'Wednesday', 'Thursday', 'Friday', 'Saturday', 'Sunday']\n",
        "\n",
        "days = filter(lambda day: day if len(day) == 6 else '', weekdays)\n",
        "\n",
        "# Iterate through the filtered days and print each day that has a length of 6 characters\n",
        "for d in days:\n",
        "    print(d)"
      ],
      "metadata": {
        "colab": {
          "base_uri": "https://localhost:8080/"
        },
        "id": "gnbjfu8Kf5QG",
        "outputId": "37bd7753-381d-4974-dc82-29714fb206b6"
      },
      "execution_count": null,
      "outputs": [
        {
          "output_type": "stream",
          "name": "stdout",
          "text": [
            "Monday\n",
            "Friday\n",
            "Sunday\n"
          ]
        }
      ]
    },
    {
      "cell_type": "markdown",
      "source": [
        "4.\tWrite lambda functions to sort a list of numbers in ascending or descending order."
      ],
      "metadata": {
        "id": "ek8UWCfCgXrG"
      }
    },
    {
      "cell_type": "code",
      "source": [
        "List = [[2, 8, 10], [12, 45, 2], [4, 10, 1]]\n",
        "\n",
        "List.sort(key=lambda x:x[1])\n",
        "\n",
        "print(\"Sorting by 2nd column in Ascending\", List)\n",
        "List.sort(key=lambda x:x[1], reverse=True)\n",
        "print(\"Sorting by 2nd column in Descending\", List)"
      ],
      "metadata": {
        "colab": {
          "base_uri": "https://localhost:8080/"
        },
        "id": "swHtSQGAgfce",
        "outputId": "c389f730-1061-431d-db14-b4ea700b210a"
      },
      "execution_count": null,
      "outputs": [
        {
          "output_type": "stream",
          "name": "stdout",
          "text": [
            "Sorting by 2nd column in Ascending [[2, 8, 10], [4, 10, 1], [12, 45, 2]]\n",
            "Sorting by 2nd column in Descending [[12, 45, 2], [4, 10, 1], [2, 8, 10]]\n"
          ]
        }
      ]
    },
    {
      "cell_type": "markdown",
      "source": [
        "5.\tDefine a generator function that yields the squares of numbers from 1 to a specified limit."
      ],
      "metadata": {
        "id": "ILndFrntw0FK"
      }
    },
    {
      "cell_type": "code",
      "source": [
        "# create the generator object\n",
        "squares_generator = (i * i for i in range(5))\n",
        "\n",
        "# iterate over the generator and print the values\n",
        "for i in squares_generator:\n",
        "    print(i)"
      ],
      "metadata": {
        "colab": {
          "base_uri": "https://localhost:8080/"
        },
        "id": "ouuRfezRxSWo",
        "outputId": "536021d3-b184-49fd-8144-8876a58878e4"
      },
      "execution_count": null,
      "outputs": [
        {
          "output_type": "stream",
          "name": "stdout",
          "text": [
            "0\n",
            "1\n",
            "4\n",
            "9\n",
            "16\n"
          ]
        }
      ]
    },
    {
      "cell_type": "markdown",
      "source": [
        "6.\tCreate a generator that returns characters from a string one by one."
      ],
      "metadata": {
        "id": "6PzmKtQgxZZy"
      }
    },
    {
      "cell_type": "code",
      "source": [
        "usrInput = input('Please enter a character:')[0]\n",
        "print(f'Your single character input was: {usrInput}')\n",
        ""
      ],
      "metadata": {
        "colab": {
          "base_uri": "https://localhost:8080/"
        },
        "id": "qerQk1mHPQp2",
        "outputId": "760d487b-281f-418b-d1f0-4bf9ba171a52"
      },
      "execution_count": 8,
      "outputs": [
        {
          "output_type": "stream",
          "name": "stdout",
          "text": [
            "Please enter a character:kavin\n",
            "Your single character input was: k\n"
          ]
        }
      ]
    },
    {
      "cell_type": "code",
      "source": [
        "ez_string = \"Generators\"\n",
        "for s in ez_string:\n",
        "    print(s)"
      ],
      "metadata": {
        "colab": {
          "base_uri": "https://localhost:8080/"
        },
        "id": "tGNvvwSMgmZb",
        "outputId": "dc1d25bc-baa6-41c4-917c-93df6963fe7b"
      },
      "execution_count": 16,
      "outputs": [
        {
          "output_type": "stream",
          "name": "stdout",
          "text": [
            "G\n",
            "e\n",
            "n\n",
            "e\n",
            "r\n",
            "a\n",
            "t\n",
            "o\n",
            "r\n",
            "s\n"
          ]
        }
      ]
    },
    {
      "cell_type": "markdown",
      "source": [
        "7.\tWrite a generator function to read lines from a large file in chunks (e.g., 10 lines at a time) to improve memory usage."
      ],
      "metadata": {
        "id": "s45yn5nYiTbU"
      }
    },
    {
      "cell_type": "code",
      "source": [
        "import pandas as pd\n",
        "data = pd.read_csv('N:/Python_week1 Assignment/myfile.csv')\n",
        "print(data)"
      ],
      "metadata": {
        "colab": {
          "base_uri": "https://localhost:8080/",
          "height": 321
        },
        "id": "zg3RPV9T2MZp",
        "outputId": "8dcb4ec1-545c-464f-a746-9ff3b34ff6b7"
      },
      "execution_count": 90,
      "outputs": [
        {
          "output_type": "error",
          "ename": "FileNotFoundError",
          "evalue": "[Errno 2] No such file or directory: 'N:/Python_week1 Assignment/myfile.csv'",
          "traceback": [
            "\u001b[0;31m---------------------------------------------------------------------------\u001b[0m",
            "\u001b[0;31mFileNotFoundError\u001b[0m                         Traceback (most recent call last)",
            "\u001b[0;32m<ipython-input-90-c92d723a967f>\u001b[0m in \u001b[0;36m<cell line: 2>\u001b[0;34m()\u001b[0m\n\u001b[1;32m      1\u001b[0m \u001b[0;32mimport\u001b[0m \u001b[0mpandas\u001b[0m \u001b[0;32mas\u001b[0m \u001b[0mpd\u001b[0m\u001b[0;34m\u001b[0m\u001b[0;34m\u001b[0m\u001b[0m\n\u001b[0;32m----> 2\u001b[0;31m \u001b[0mdata\u001b[0m \u001b[0;34m=\u001b[0m \u001b[0mpd\u001b[0m\u001b[0;34m.\u001b[0m\u001b[0mread_csv\u001b[0m\u001b[0;34m(\u001b[0m\u001b[0;34m'N:/Python_week1 Assignment/myfile.csv'\u001b[0m\u001b[0;34m)\u001b[0m\u001b[0;34m\u001b[0m\u001b[0;34m\u001b[0m\u001b[0m\n\u001b[0m\u001b[1;32m      3\u001b[0m \u001b[0mprint\u001b[0m\u001b[0;34m(\u001b[0m\u001b[0mdata\u001b[0m\u001b[0;34m)\u001b[0m\u001b[0;34m\u001b[0m\u001b[0;34m\u001b[0m\u001b[0m\n",
            "\u001b[0;32m/usr/local/lib/python3.10/dist-packages/pandas/io/parsers/readers.py\u001b[0m in \u001b[0;36mread_csv\u001b[0;34m(filepath_or_buffer, sep, delimiter, header, names, index_col, usecols, dtype, engine, converters, true_values, false_values, skipinitialspace, skiprows, skipfooter, nrows, na_values, keep_default_na, na_filter, verbose, skip_blank_lines, parse_dates, infer_datetime_format, keep_date_col, date_parser, date_format, dayfirst, cache_dates, iterator, chunksize, compression, thousands, decimal, lineterminator, quotechar, quoting, doublequote, escapechar, comment, encoding, encoding_errors, dialect, on_bad_lines, delim_whitespace, low_memory, memory_map, float_precision, storage_options, dtype_backend)\u001b[0m\n\u001b[1;32m    910\u001b[0m     \u001b[0mkwds\u001b[0m\u001b[0;34m.\u001b[0m\u001b[0mupdate\u001b[0m\u001b[0;34m(\u001b[0m\u001b[0mkwds_defaults\u001b[0m\u001b[0;34m)\u001b[0m\u001b[0;34m\u001b[0m\u001b[0;34m\u001b[0m\u001b[0m\n\u001b[1;32m    911\u001b[0m \u001b[0;34m\u001b[0m\u001b[0m\n\u001b[0;32m--> 912\u001b[0;31m     \u001b[0;32mreturn\u001b[0m \u001b[0m_read\u001b[0m\u001b[0;34m(\u001b[0m\u001b[0mfilepath_or_buffer\u001b[0m\u001b[0;34m,\u001b[0m \u001b[0mkwds\u001b[0m\u001b[0;34m)\u001b[0m\u001b[0;34m\u001b[0m\u001b[0;34m\u001b[0m\u001b[0m\n\u001b[0m\u001b[1;32m    913\u001b[0m \u001b[0;34m\u001b[0m\u001b[0m\n\u001b[1;32m    914\u001b[0m \u001b[0;34m\u001b[0m\u001b[0m\n",
            "\u001b[0;32m/usr/local/lib/python3.10/dist-packages/pandas/io/parsers/readers.py\u001b[0m in \u001b[0;36m_read\u001b[0;34m(filepath_or_buffer, kwds)\u001b[0m\n\u001b[1;32m    575\u001b[0m \u001b[0;34m\u001b[0m\u001b[0m\n\u001b[1;32m    576\u001b[0m     \u001b[0;31m# Create the parser.\u001b[0m\u001b[0;34m\u001b[0m\u001b[0;34m\u001b[0m\u001b[0m\n\u001b[0;32m--> 577\u001b[0;31m     \u001b[0mparser\u001b[0m \u001b[0;34m=\u001b[0m \u001b[0mTextFileReader\u001b[0m\u001b[0;34m(\u001b[0m\u001b[0mfilepath_or_buffer\u001b[0m\u001b[0;34m,\u001b[0m \u001b[0;34m**\u001b[0m\u001b[0mkwds\u001b[0m\u001b[0;34m)\u001b[0m\u001b[0;34m\u001b[0m\u001b[0;34m\u001b[0m\u001b[0m\n\u001b[0m\u001b[1;32m    578\u001b[0m \u001b[0;34m\u001b[0m\u001b[0m\n\u001b[1;32m    579\u001b[0m     \u001b[0;32mif\u001b[0m \u001b[0mchunksize\u001b[0m \u001b[0;32mor\u001b[0m \u001b[0miterator\u001b[0m\u001b[0;34m:\u001b[0m\u001b[0;34m\u001b[0m\u001b[0;34m\u001b[0m\u001b[0m\n",
            "\u001b[0;32m/usr/local/lib/python3.10/dist-packages/pandas/io/parsers/readers.py\u001b[0m in \u001b[0;36m__init__\u001b[0;34m(self, f, engine, **kwds)\u001b[0m\n\u001b[1;32m   1405\u001b[0m \u001b[0;34m\u001b[0m\u001b[0m\n\u001b[1;32m   1406\u001b[0m         \u001b[0mself\u001b[0m\u001b[0;34m.\u001b[0m\u001b[0mhandles\u001b[0m\u001b[0;34m:\u001b[0m \u001b[0mIOHandles\u001b[0m \u001b[0;34m|\u001b[0m \u001b[0;32mNone\u001b[0m \u001b[0;34m=\u001b[0m \u001b[0;32mNone\u001b[0m\u001b[0;34m\u001b[0m\u001b[0;34m\u001b[0m\u001b[0m\n\u001b[0;32m-> 1407\u001b[0;31m         \u001b[0mself\u001b[0m\u001b[0;34m.\u001b[0m\u001b[0m_engine\u001b[0m \u001b[0;34m=\u001b[0m \u001b[0mself\u001b[0m\u001b[0;34m.\u001b[0m\u001b[0m_make_engine\u001b[0m\u001b[0;34m(\u001b[0m\u001b[0mf\u001b[0m\u001b[0;34m,\u001b[0m \u001b[0mself\u001b[0m\u001b[0;34m.\u001b[0m\u001b[0mengine\u001b[0m\u001b[0;34m)\u001b[0m\u001b[0;34m\u001b[0m\u001b[0;34m\u001b[0m\u001b[0m\n\u001b[0m\u001b[1;32m   1408\u001b[0m \u001b[0;34m\u001b[0m\u001b[0m\n\u001b[1;32m   1409\u001b[0m     \u001b[0;32mdef\u001b[0m \u001b[0mclose\u001b[0m\u001b[0;34m(\u001b[0m\u001b[0mself\u001b[0m\u001b[0;34m)\u001b[0m \u001b[0;34m->\u001b[0m \u001b[0;32mNone\u001b[0m\u001b[0;34m:\u001b[0m\u001b[0;34m\u001b[0m\u001b[0;34m\u001b[0m\u001b[0m\n",
            "\u001b[0;32m/usr/local/lib/python3.10/dist-packages/pandas/io/parsers/readers.py\u001b[0m in \u001b[0;36m_make_engine\u001b[0;34m(self, f, engine)\u001b[0m\n\u001b[1;32m   1659\u001b[0m                 \u001b[0;32mif\u001b[0m \u001b[0;34m\"b\"\u001b[0m \u001b[0;32mnot\u001b[0m \u001b[0;32min\u001b[0m \u001b[0mmode\u001b[0m\u001b[0;34m:\u001b[0m\u001b[0;34m\u001b[0m\u001b[0;34m\u001b[0m\u001b[0m\n\u001b[1;32m   1660\u001b[0m                     \u001b[0mmode\u001b[0m \u001b[0;34m+=\u001b[0m \u001b[0;34m\"b\"\u001b[0m\u001b[0;34m\u001b[0m\u001b[0;34m\u001b[0m\u001b[0m\n\u001b[0;32m-> 1661\u001b[0;31m             self.handles = get_handle(\n\u001b[0m\u001b[1;32m   1662\u001b[0m                 \u001b[0mf\u001b[0m\u001b[0;34m,\u001b[0m\u001b[0;34m\u001b[0m\u001b[0;34m\u001b[0m\u001b[0m\n\u001b[1;32m   1663\u001b[0m                 \u001b[0mmode\u001b[0m\u001b[0;34m,\u001b[0m\u001b[0;34m\u001b[0m\u001b[0;34m\u001b[0m\u001b[0m\n",
            "\u001b[0;32m/usr/local/lib/python3.10/dist-packages/pandas/io/common.py\u001b[0m in \u001b[0;36mget_handle\u001b[0;34m(path_or_buf, mode, encoding, compression, memory_map, is_text, errors, storage_options)\u001b[0m\n\u001b[1;32m    857\u001b[0m         \u001b[0;32mif\u001b[0m \u001b[0mioargs\u001b[0m\u001b[0;34m.\u001b[0m\u001b[0mencoding\u001b[0m \u001b[0;32mand\u001b[0m \u001b[0;34m\"b\"\u001b[0m \u001b[0;32mnot\u001b[0m \u001b[0;32min\u001b[0m \u001b[0mioargs\u001b[0m\u001b[0;34m.\u001b[0m\u001b[0mmode\u001b[0m\u001b[0;34m:\u001b[0m\u001b[0;34m\u001b[0m\u001b[0;34m\u001b[0m\u001b[0m\n\u001b[1;32m    858\u001b[0m             \u001b[0;31m# Encoding\u001b[0m\u001b[0;34m\u001b[0m\u001b[0;34m\u001b[0m\u001b[0m\n\u001b[0;32m--> 859\u001b[0;31m             handle = open(\n\u001b[0m\u001b[1;32m    860\u001b[0m                 \u001b[0mhandle\u001b[0m\u001b[0;34m,\u001b[0m\u001b[0;34m\u001b[0m\u001b[0;34m\u001b[0m\u001b[0m\n\u001b[1;32m    861\u001b[0m                 \u001b[0mioargs\u001b[0m\u001b[0;34m.\u001b[0m\u001b[0mmode\u001b[0m\u001b[0;34m,\u001b[0m\u001b[0;34m\u001b[0m\u001b[0;34m\u001b[0m\u001b[0m\n",
            "\u001b[0;31mFileNotFoundError\u001b[0m: [Errno 2] No such file or directory: 'N:/Python_week1 Assignment/myfile.csv'"
          ]
        }
      ]
    },
    {
      "cell_type": "code",
      "source": [
        "'''\n",
        "Writing a generator to load data in chunks (2)\n",
        "100xp\n",
        "\n",
        "In the previous exercise, you processed a file line by line for a given number of lines.\n",
        "What if, however, you want to do this for the entire file?\n",
        "\n",
        "In this case, it would be useful to use generators. Generators allow users to lazily evaluate\n",
        "data. This concept of lazy evaluation is useful when you have to deal with very large datasets\n",
        "because it lets you generate values in an efficient manner by yielding only chunks of data at a\n",
        "time instead of the whole thing at once.\n",
        "\n",
        "In this exercise, you will define a generator function read_large_file() that produces a generator\n",
        "object which yields a single line from a file each time next() is called on it. The csv file\n",
        "'world_dev_ind.csv' is in your current directory for your use.\n",
        "\n",
        "Note that when you open a connection to a file, the resulting file object is already a generator!\n",
        "So out in the wild, you won't have to explicitly create generator objects in cases such as this.\n",
        "However, for pedagogical reasons, we are having you practice how to do this here with the\n",
        "read_large_file() function. Go for it!\n",
        "\n",
        "Instructions\n",
        "-In the function read_large_file(), read a line from file_object by using the method readline().\n",
        "Assign the result to data.\n",
        "-In the function read_large_file(), yield the line read from the file data.\n",
        "-In the context manager, create a generator object gen_file by calling your generator function\n",
        "read_large_file() and passing file to it.\n",
        "-Print the first three lines produced by the generator object gen_file using next().\n",
        "'''\n",
        "\n",
        "# Define read_large_file()\n",
        "def read_large_file(file_object):\n",
        "    \"\"\"A generator function to read a large file lazily.\"\"\"\n",
        "\n",
        "    # Loop indefinitely until the end of the file\n",
        "    while True:\n",
        "\n",
        "        # Read a line from the file: data\n",
        "        data = file_object.readline()\n",
        "\n",
        "        # Break if this is the end of the file\n",
        "        if not data:\n",
        "            break\n",
        "\n",
        "        # Yield the line of data\n",
        "        yield data\n",
        "\n",
        "    # Create a generator object for the file: gen_file\n",
        "    gen_file = read_large_file(file)\n",
        "\n",
        "    # Print the first three lines of the file\n",
        "    print(next(gen_file))\n",
        "    print(next(gen_file))\n",
        "    print(next(gen_file))"
      ],
      "metadata": {
        "id": "xsrcqGsCkdiM"
      },
      "execution_count": 23,
      "outputs": []
    },
    {
      "cell_type": "markdown",
      "source": [
        "8.\tDefine a generator that generates random numbers within a specified range"
      ],
      "metadata": {
        "id": "JhAMQrXqsvcY"
      }
    },
    {
      "cell_type": "code",
      "source": [
        "import random"
      ],
      "metadata": {
        "id": "2htFpx8lsw_P"
      },
      "execution_count": 27,
      "outputs": []
    },
    {
      "cell_type": "code",
      "source": [
        "print(\"Random integers between 0 and 9: \")\n",
        "for i in range(4, 15):\n",
        "     y = random.randrange(9)\n",
        "     print(y)"
      ],
      "metadata": {
        "colab": {
          "base_uri": "https://localhost:8080/"
        },
        "id": "ERpzt1ycs_Dm",
        "outputId": "78241535-4751-4210-9c01-d9e9b0478957"
      },
      "execution_count": 28,
      "outputs": [
        {
          "output_type": "stream",
          "name": "stdout",
          "text": [
            "Random integers between 0 and 9: \n",
            "5\n",
            "4\n",
            "7\n",
            "6\n",
            "5\n",
            "5\n",
            "2\n",
            "2\n",
            "1\n",
            "4\n",
            "3\n"
          ]
        }
      ]
    },
    {
      "cell_type": "markdown",
      "source": [
        "9.\tUse lambda functions and closures to create a function that remembers a starting value and adds any input to it"
      ],
      "metadata": {
        "id": "8ycm2CaS73Gh"
      }
    },
    {
      "cell_type": "code",
      "source": [
        "for i in [0, 1, 2, 3]:\n",
        "   adders[i] = lambda a: i+a\n",
        "print (adders[1](3))\n",
        "\n",
        "for i in [0,1,2,3]:\n",
        "    adders[i]=lambda a,i=i: i+a\n",
        "print(adders[1](3))"
      ],
      "metadata": {
        "colab": {
          "base_uri": "https://localhost:8080/"
        },
        "id": "SPTkceHQ5dxL",
        "outputId": "d739eb4b-9c52-4e87-dfd9-d1113504c4b2"
      },
      "execution_count": 102,
      "outputs": [
        {
          "output_type": "stream",
          "name": "stdout",
          "text": [
            "6\n",
            "4\n"
          ]
        }
      ]
    },
    {
      "cell_type": "code",
      "source": [
        "adders = [5,1,2,3]\n",
        "for i in [1,2,3,0]:\n",
        "  adders[i] = (lambda b: lambda a: b + a)(i)\n",
        "print(adders[0](1))"
      ],
      "metadata": {
        "colab": {
          "base_uri": "https://localhost:8080/"
        },
        "id": "LbA759_g7Dui",
        "outputId": "d6cd1191-efd9-42e1-a15e-ceddf372e185"
      },
      "execution_count": 124,
      "outputs": [
        {
          "output_type": "stream",
          "name": "stdout",
          "text": [
            "1\n"
          ]
        }
      ]
    },
    {
      "cell_type": "code",
      "source": [
        "def createAdder(x):\n",
        "    return lambda y: y + x\n",
        "adders = [createAdder(i) for i in range(4)]\n",
        "print(adders[2](2))"
      ],
      "metadata": {
        "colab": {
          "base_uri": "https://localhost:8080/"
        },
        "id": "MuoMs8gW9c8h",
        "outputId": "f7910465-1bd8-4da9-cab1-5091927c2d27"
      },
      "execution_count": 118,
      "outputs": [
        {
          "output_type": "stream",
          "name": "stdout",
          "text": [
            "4\n"
          ]
        }
      ]
    },
    {
      "cell_type": "markdown",
      "source": [
        "10.\tWrite lambda functions with closures to simulate a basic shopping cart that keeps track of added items and their prices."
      ],
      "metadata": {
        "id": "Nd7n-RVuCIaV"
      }
    },
    {
      "cell_type": "code",
      "source": [
        "print(\"Welcome to the Shopping Cart Program!\")\n",
        "cart = []\n",
        "prices = []\n",
        "total = []\n",
        "total_price = []\n",
        "while True:\n",
        "    print()\n",
        "    print (\"Please type in one of these\")\n",
        "    print (\"1. Add item \")\n",
        "    print (\"2. View cart \")\n",
        "    print (\"3. Remove Item \")\n",
        "    print (\"4 compute total\")\n",
        "\n",
        "    select = int(input(\" Type in a number to go on \"))\n",
        "    item = \"\"\n",
        "    if select == 1:\n",
        "        while item != \"ok\":\n",
        "            item = input(\" What would you like to add?  \")\n",
        "            price = float(input(\" type in the price \"))\n",
        "            prices.append(price)\n",
        "\n",
        "            ok = input (\"type in ok when you're done.\")\n",
        "            if item != \"ok\":\n",
        "                cart.append(item)\n",
        "                print(f\"'{item}' has been added to your cart.\")\n",
        "                print(f\" The price is ${price}\")\n",
        "                break\n",
        "    if select == 2:\n",
        "        print(\"This is what is in your shopping cart\")\n",
        "        for item in cart:\n",
        "            print(item,price)\n",
        "            ok = input (\"press ok when you're done\")\n",
        "            if item != \"ok\":\n",
        "                break\n",
        "\n",
        "\n",
        "\n",
        "    if select == 3:\n",
        "        takeout = input(\" Type in what you would like to remove?  \")\n",
        "        cart.remove(takeout)\n",
        "        continue\n",
        "\n",
        "\n",
        "    if select == 4:\n",
        "        for price in total_price:\n",
        "            sum+= price\n",
        "            print(sum(total_price))\n",
        "            input (\"type in ok when you're done\")\n",
        "            if item != \"ok\":\n",
        "                break\n",
        "\n",
        "\n",
        "\n",
        "    if select == 5:\n",
        "        print (\"comeback soon.\")\n",
        "        break"
      ],
      "metadata": {
        "colab": {
          "base_uri": "https://localhost:8080/"
        },
        "id": "2LTmkm_-As1c",
        "outputId": "42ddd338-3e79-4acd-cee4-576de5908520"
      },
      "execution_count": null,
      "outputs": [
        {
          "output_type": "stream",
          "name": "stdout",
          "text": [
            "Welcome to the Shopping Cart Program!\n",
            "\n",
            "Please type in one of these\n",
            "1. Add item \n",
            "2. View cart \n",
            "3. Remove Item \n",
            "4 compute total\n",
            " Type in a number to go on 1\n",
            " What would you like to add?  mobile\n",
            " type in the price 20000\n",
            "type in ok when you're done.ok\n",
            "'mobile' has been added to your cart.\n",
            " The price is $20000.0\n",
            "\n",
            "Please type in one of these\n",
            "1. Add item \n",
            "2. View cart \n",
            "3. Remove Item \n",
            "4 compute total\n",
            " Type in a number to go on 1\n",
            " What would you like to add?  cofee\n",
            " type in the price 5\n",
            "type in ok when you're done.no\n",
            "'cofee' has been added to your cart.\n",
            " The price is $5.0\n",
            "\n",
            "Please type in one of these\n",
            "1. Add item \n",
            "2. View cart \n",
            "3. Remove Item \n",
            "4 compute total\n"
          ]
        }
      ]
    }
  ]
}